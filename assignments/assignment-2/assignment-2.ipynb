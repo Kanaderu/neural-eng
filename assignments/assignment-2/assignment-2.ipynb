{
 "metadata": {
  "name": "",
  "signature": "sha256:6bb49a7f98cc4386773a1395edfd199faa94c9bc322de892151b4f1ddf385de3"
 },
 "nbformat": 3,
 "nbformat_minor": 0,
 "worksheets": [
  {
   "cells": [
    {
     "cell_type": "markdown",
     "metadata": {},
     "source": [
      "# SYDE 556: Simulating Neurobiological Systems\n",
      "# Assignment 2: Spiking Neurons\n",
      "\n",
      "**Author:** *Jonathan Johnston*\n",
      "\n",
      "**Course Instructor:** *Professor C. Eliasmith*\n",
      "\n",
      "This assignment is ... TODO: Description\n",
      "\n",
      "The assignment corresponds to the document hosted at:\n",
      "\n",
      "http://nbviewer.ipython.org/github/celiasmith/syde556/blob/master/Assignment%202.ipynb"
     ]
    },
    {
     "cell_type": "code",
     "collapsed": false,
     "input": [
      "%matplotlib inline\n",
      "import numpy as np\n",
      "import matplotlib.pyplot as plt\n",
      "import matplotlib as mp"
     ],
     "language": "python",
     "metadata": {},
     "outputs": [],
     "prompt_number": 101
    },
    {
     "cell_type": "code",
     "collapsed": false,
     "input": [
      "def calc_rms(x):\n",
      "    '''Calculate root mean squared power of a signal x'''\n",
      "    return np.sqrt(np.mean(np.power(x,2)))\n",
      "\n",
      "# rms test\n",
      "assert calc_rms([1,1,1]) == 1.0\n",
      "assert calc_rms([3,3,3]) == 3.0"
     ],
     "language": "python",
     "metadata": {},
     "outputs": [],
     "prompt_number": 136
    },
    {
     "cell_type": "markdown",
     "metadata": {},
     "source": [
      "## Section 1: Generating a Random Input Signal\n",
      "\n",
      "### Section 1.1: Gaissuan White Noise"
     ]
    },
    {
     "cell_type": "code",
     "collapsed": false,
     "input": [
      "def generate_signal(T,dt,rms,limit,seed=0):\n",
      "    '''\n",
      "    Return a randomly generated white noise signal as an array\n",
      "    in both the time and frequency domains (x, X)\n",
      "    \n",
      "    Keyword Arguments:\n",
      "    T - length of signal in seconds\n",
      "    dt - time step in seconds\n",
      "    rms - root mean square power level of the signal\n",
      "    limit - maximum frequency for the signal (in Hz)\n",
      "    seed - the random number seed to use\n",
      "    '''\n",
      "    \n",
      "    if seed != 0:\n",
      "        np.random.seed(seed=seed)\n",
      "    \n",
      "    t = np.arange(0,T,dt) #time scale\n",
      "    N = len(t) #samples\n",
      "    f = np.fft.fftfreq(N,dt) #freq range (Hz)\n",
      "    print(f)\n",
      "    X = np.zeros(len(w)).tolist() #freq signal\n",
      "    \n",
      "    for i, freq in enumerate(f):\n",
      "        if abs(freq) <= limit:\n",
      "            real, imag = np.random.normal(), np.random.normal()*1j\n",
      "            X[i] = real + imag\n",
      "            if freq != 0:\n",
      "                X[-i] = real - imag\n",
      "    \n",
      "    # rescale the signal to rms threshold\n",
      "    x = np.fft.ifft(X).real\n",
      "    sig_rms = calc_rms(x)\n",
      "    x = [sig + (rms - sig_rms) for sig in x]\n",
      "    X = np.fft.fft(x)\n",
      "    \n",
      "    return x, X"
     ],
     "language": "python",
     "metadata": {},
     "outputs": [],
     "prompt_number": 174
    },
    {
     "cell_type": "markdown",
     "metadata": {},
     "source": [
      "#### Part A\n",
      "\n",
      "Plot three randomly generated signals of frequency 5, 10, and 20 Hertz."
     ]
    },
    {
     "cell_type": "code",
     "collapsed": false,
     "input": [
      "# time ranges and params\n",
      "T, dt, rms = 2, 0.01, 0.5\n",
      "t = np.arange(0,T,dt)\n",
      "\n",
      "# generate 3 time plots\n",
      "limits = [5,10,20]\n",
      "for limit in limits:\n",
      "    x, X = generate_signal(T=T,dt=dt,rms=rms,limit=limit)\n",
      "    print(np.shape(x))\n",
      "    print(len(t))\n",
      "    plt.plot(t,x)\n",
      "    plt.show()\n",
      "    print(calc_rms(x))"
     ],
     "language": "python",
     "metadata": {},
     "outputs": [
      {
       "output_type": "stream",
       "stream": "stdout",
       "text": [
        "[  0.    0.5   1.    1.5   2.    2.5   3.    3.5   4.    4.5   5.    5.5\n",
        "   6.    6.5   7.    7.5   8.    8.5   9.    9.5  10.   10.5  11.   11.5\n",
        "  12.   12.5  13.   13.5  14.   14.5  15.   15.5  16.   16.5  17.   17.5\n",
        "  18.   18.5  19.   19.5  20.   20.5  21.   21.5  22.   22.5  23.   23.5\n",
        "  24.   24.5  25.   25.5  26.   26.5  27.   27.5  28.   28.5  29.   29.5\n",
        "  30.   30.5  31.   31.5  32.   32.5  33.   33.5  34.   34.5  35.   35.5\n",
        "  36.   36.5  37.   37.5  38.   38.5  39.   39.5  40.   40.5  41.   41.5\n",
        "  42.   42.5  43.   43.5  44.   44.5  45.   45.5  46.   46.5  47.   47.5\n",
        "  48.   48.5  49.   49.5 -50.  -49.5 -49.  -48.5 -48.  -47.5 -47.  -46.5\n",
        " -46.  -45.5 -45.  -44.5 -44.  -43.5 -43.  -42.5 -42.  -41.5 -41.  -40.5\n",
        " -40.  -39.5 -39.  -38.5 -38.  -37.5 -37.  -36.5 -36.  -35.5 -35.  -34.5\n",
        " -34.  -33.5 -33.  -32.5 -32.  -31.5 -31.  -30.5 -30.  -29.5 -29.  -28.5\n",
        " -28.  -27.5 -27.  -26.5 -26.  -25.5 -25.  -24.5 -24.  -23.5 -23.  -22.5\n",
        " -22.  -21.5 -21.  -20.5 -20.  -19.5 -19.  -18.5 -18.  -17.5 -17.  -16.5\n",
        " -16.  -15.5 -15.  -14.5 -14.  -13.5 -13.  -12.5 -12.  -11.5 -11.  -10.5\n",
        " -10.   -9.5  -9.   -8.5  -8.   -7.5  -7.   -6.5  -6.   -5.5  -5.   -4.5\n",
        "  -4.   -3.5  -3.   -2.5  -2.   -1.5  -1.   -0.5]\n"
       ]
      },
      {
       "ename": "NameError",
       "evalue": "name 'where' is not defined",
       "output_type": "pyerr",
       "traceback": [
        "\u001b[1;31m---------------------------------------------------------------------------\u001b[0m\n\u001b[1;31mNameError\u001b[0m                                 Traceback (most recent call last)",
        "\u001b[1;32m<ipython-input-175-29c3a4d92ce7>\u001b[0m in \u001b[0;36m<module>\u001b[1;34m()\u001b[0m\n\u001b[0;32m      6\u001b[0m \u001b[0mlimits\u001b[0m \u001b[1;33m=\u001b[0m \u001b[1;33m[\u001b[0m\u001b[1;36m5\u001b[0m\u001b[1;33m,\u001b[0m\u001b[1;36m10\u001b[0m\u001b[1;33m,\u001b[0m\u001b[1;36m20\u001b[0m\u001b[1;33m]\u001b[0m\u001b[1;33m\u001b[0m\u001b[0m\n\u001b[0;32m      7\u001b[0m \u001b[1;32mfor\u001b[0m \u001b[0mlimit\u001b[0m \u001b[1;32min\u001b[0m \u001b[0mlimits\u001b[0m\u001b[1;33m:\u001b[0m\u001b[1;33m\u001b[0m\u001b[0m\n\u001b[1;32m----> 8\u001b[1;33m     \u001b[0mx\u001b[0m\u001b[1;33m,\u001b[0m \u001b[0mX\u001b[0m \u001b[1;33m=\u001b[0m \u001b[0mgenerate_signal\u001b[0m\u001b[1;33m(\u001b[0m\u001b[0mT\u001b[0m\u001b[1;33m=\u001b[0m\u001b[0mT\u001b[0m\u001b[1;33m,\u001b[0m\u001b[0mdt\u001b[0m\u001b[1;33m=\u001b[0m\u001b[0mdt\u001b[0m\u001b[1;33m,\u001b[0m\u001b[0mrms\u001b[0m\u001b[1;33m=\u001b[0m\u001b[0mrms\u001b[0m\u001b[1;33m,\u001b[0m\u001b[0mlimit\u001b[0m\u001b[1;33m=\u001b[0m\u001b[0mlimit\u001b[0m\u001b[1;33m)\u001b[0m\u001b[1;33m\u001b[0m\u001b[0m\n\u001b[0m\u001b[0;32m      9\u001b[0m     \u001b[0mprint\u001b[0m\u001b[1;33m(\u001b[0m\u001b[0mnp\u001b[0m\u001b[1;33m.\u001b[0m\u001b[0mshape\u001b[0m\u001b[1;33m(\u001b[0m\u001b[0mx\u001b[0m\u001b[1;33m)\u001b[0m\u001b[1;33m)\u001b[0m\u001b[1;33m\u001b[0m\u001b[0m\n\u001b[0;32m     10\u001b[0m     \u001b[0mprint\u001b[0m\u001b[1;33m(\u001b[0m\u001b[0mlen\u001b[0m\u001b[1;33m(\u001b[0m\u001b[0mt\u001b[0m\u001b[1;33m)\u001b[0m\u001b[1;33m)\u001b[0m\u001b[1;33m\u001b[0m\u001b[0m\n",
        "\u001b[1;32m<ipython-input-174-ddcc1ce73107>\u001b[0m in \u001b[0;36mgenerate_signal\u001b[1;34m(T, dt, rms, limit, seed)\u001b[0m\n\u001b[0;32m     21\u001b[0m     \u001b[0mX\u001b[0m \u001b[1;33m=\u001b[0m \u001b[0mnp\u001b[0m\u001b[1;33m.\u001b[0m\u001b[0mzeros\u001b[0m\u001b[1;33m(\u001b[0m\u001b[0mlen\u001b[0m\u001b[1;33m(\u001b[0m\u001b[0mw\u001b[0m\u001b[1;33m)\u001b[0m\u001b[1;33m)\u001b[0m\u001b[1;33m.\u001b[0m\u001b[0mtolist\u001b[0m\u001b[1;33m(\u001b[0m\u001b[1;33m)\u001b[0m \u001b[1;31m#freq signal\u001b[0m\u001b[1;33m\u001b[0m\u001b[0m\n\u001b[0;32m     22\u001b[0m \u001b[1;33m\u001b[0m\u001b[0m\n\u001b[1;32m---> 23\u001b[1;33m     \u001b[1;32mfor\u001b[0m \u001b[0mi\u001b[0m\u001b[1;33m,\u001b[0m \u001b[0mfreq\u001b[0m \u001b[1;32min\u001b[0m \u001b[0menumerate\u001b[0m\u001b[1;33m(\u001b[0m\u001b[0mwhere\u001b[0m\u001b[1;33m(\u001b[0m\u001b[0mf\u001b[0m\u001b[1;33m<\u001b[0m\u001b[1;36m0\u001b[0m\u001b[1;33m)\u001b[0m\u001b[1;33m)\u001b[0m\u001b[1;33m:\u001b[0m\u001b[1;33m\u001b[0m\u001b[0m\n\u001b[0m\u001b[0;32m     24\u001b[0m         \u001b[1;32mif\u001b[0m \u001b[0mabs\u001b[0m\u001b[1;33m(\u001b[0m\u001b[0mfreq\u001b[0m\u001b[1;33m)\u001b[0m \u001b[1;33m<=\u001b[0m \u001b[0mlimit\u001b[0m\u001b[1;33m:\u001b[0m\u001b[1;33m\u001b[0m\u001b[0m\n\u001b[0;32m     25\u001b[0m             \u001b[0mreal\u001b[0m\u001b[1;33m,\u001b[0m \u001b[0mimag\u001b[0m \u001b[1;33m=\u001b[0m \u001b[0mnp\u001b[0m\u001b[1;33m.\u001b[0m\u001b[0mrandom\u001b[0m\u001b[1;33m.\u001b[0m\u001b[0mnormal\u001b[0m\u001b[1;33m(\u001b[0m\u001b[1;33m)\u001b[0m\u001b[1;33m,\u001b[0m \u001b[0mnp\u001b[0m\u001b[1;33m.\u001b[0m\u001b[0mrandom\u001b[0m\u001b[1;33m.\u001b[0m\u001b[0mnormal\u001b[0m\u001b[1;33m(\u001b[0m\u001b[1;33m)\u001b[0m\u001b[1;33m*\u001b[0m\u001b[1;36m1j\u001b[0m\u001b[1;33m\u001b[0m\u001b[0m\n",
        "\u001b[1;31mNameError\u001b[0m: name 'where' is not defined"
       ]
      }
     ],
     "prompt_number": 175
    },
    {
     "cell_type": "markdown",
     "metadata": {},
     "source": [
      "#### Part B\n",
      "\n"
     ]
    },
    {
     "cell_type": "code",
     "collapsed": false,
     "input": [
      "# time ranges and params\n",
      "t = np.arange(0,T,dt)\n",
      "N = len(t) #samples\n",
      "T, dt, rms, limit = 1, 0.5, 0.1, 10\n",
      "\n",
      "f = np.fft.fftfreq(N,dt) #freqs (Hz)\n",
      "w = [2*np.pi*freq for freq in f] #convert to radians\n",
      "seeds = np.arange(1,2,1) #100 unique PRNG seeds\n",
      "\n",
      "X_sigs = []\n",
      "for seed in seeds:\n",
      "    x,X = generate_signal(T=T,dt=dt,rms=rms,limit=limit,seed=seed)\n",
      "    X_sigs.append(X)\n",
      "\n",
      "X_sigs = np.array(X_sigs)\n",
      "X_sigs_norm = [np.linalg.norm(freq_vals) for freq_vals in X_sigs[:,]]\n",
      "\n",
      "print(X_sigs)\n"
     ],
     "language": "python",
     "metadata": {},
     "outputs": [
      {
       "output_type": "stream",
       "stream": "stdout",
       "text": [
        "[[  5.00000000e-01+0.j   0.00000000e+00+0.j   6.93889390e-18+0.j\n",
        "    6.93889390e-18+0.j   0.00000000e+00+0.j]]\n"
       ]
      }
     ],
     "prompt_number": 155
    },
    {
     "cell_type": "code",
     "collapsed": false,
     "input": [],
     "language": "python",
     "metadata": {},
     "outputs": []
    }
   ],
   "metadata": {}
  }
 ]
}